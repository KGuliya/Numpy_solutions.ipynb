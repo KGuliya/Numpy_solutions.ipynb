import numpy as np
a = np.zeros(10)
print(a)

import numpy as np
a = np.ones(10)
print(a)

import numpy as np
a = np.full(10, 5)
print(a)

import numpy as np
a = np.arange(10, 51)
print(a)

import numpy as np
arr = np.arange(10, 51)
print(arr[::2])

import numpy as np
arr = np.arange(9)
arr = arr.reshape(3,3)
print(arr)

import numpy as np
a = np.eye(3)
print(a)

import numpy as np
a = np.random.rand(1)
print(a)

import numpy as np
a = np.random.randn(25)
print(a)

import numpy as np
a = np.arange(0.01, 1.01, 0.01)
c = a.reshape(10,10)
print(c)

import numpy as np
mat = np.arange(1,26).reshape(5,5)
print(mat)
print('---')
print(mat[2:,1:])

import numpy as np
mat = np.arange(1,26).reshape(5,5)
print(mat)
print('---')
print(mat[3, 4])

import numpy as np
mat = np.arange(1,26).reshape(5,5)
print(mat)
print('---')
x=mat[:3,1]
print(x.reshape(3,1))

import numpy as np
mat = np.arange(1,26).reshape(5,5)
print(mat)
print('---')
print(mat[4,0:])

import numpy as np
mat = np.arange(1,26).reshape(5,5)
print(mat)
print('---')
print(mat[3:,:])

import numpy as np
mat = np.arange(1,26).reshape(5,5)
print(mat)
x = np.arange(1,26)
print('---')
print(sum(x))

import numpy as np
mat = np.arange(1,26).reshape(5,5)
print(mat)
print('---')
dev = np.std(mat)
print(dev)

import numpy as np
mat = np.arange(1,26).reshape(5,5)
print(mat)
print('---')
print(sum(mat))
